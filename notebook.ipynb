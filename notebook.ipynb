{
  "nbformat": 4,
  "nbformat_minor": 0,
  "metadata": {
    "colab": {
      "name": "[PSMC] descrack",
      "provenance": [],
      "collapsed_sections": [],
      "toc_visible": true,
      "authorship_tag": "ABX9TyPL94cW44w08rxWxdl5qN4o"
    },
    "kernelspec": {
      "name": "python3",
      "display_name": "Python 3"
    },
    "accelerator": "GPU"
  },
  "cells": [
    {
      "cell_type": "markdown",
      "metadata": {
        "id": "x5X9v5YmQ-75"
      },
      "source": [
        "# Informazioni sulla GPU:"
      ]
    },
    {
      "cell_type": "code",
      "metadata": {
        "id": "GIMdWwym1Gyz"
      },
      "source": [
        "!make -sj 2 -C /usr/local/cuda/samples/1_Utilities/deviceQuery\n",
        "!/usr/local/cuda/samples/1_Utilities/deviceQuery/deviceQuery"
      ],
      "execution_count": null,
      "outputs": []
    },
    {
      "cell_type": "markdown",
      "metadata": {
        "id": "6Rw5Glni7yPD"
      },
      "source": [
        "# Setup ambiente"
      ]
    },
    {
      "cell_type": "code",
      "metadata": {
        "id": "Iluiglxs0HFz"
      },
      "source": [
        "!rm -rf sample_data\n",
        "!curl -sL 'https://github.com/Kitware/CMake/releases/download/v3.18.3/cmake-3.18.3-Linux-x86_64.tar.gz' | tar zxf -\n",
        "!mv cmake-3.18.3-Linux-x86_64 cmake\n",
        "!git clone \"https://github.com/skansion/descrack.git\""
      ],
      "execution_count": null,
      "outputs": []
    },
    {
      "cell_type": "markdown",
      "metadata": {
        "id": "bcMW7AvMRJLj"
      },
      "source": [
        "# Configurazione e compilazione"
      ]
    },
    {
      "cell_type": "code",
      "metadata": {
        "id": "0QdLKSYQeML3"
      },
      "source": [
        "!rm -rf descrack/bin descrack/build\n",
        "!cmake/bin/cmake descrack -B descrack/build -D CMAKE_CUDA_ARCHITECTURES=75\n",
        "!make -sj 2 -C descrack/build"
      ],
      "execution_count": null,
      "outputs": []
    },
    {
      "cell_type": "markdown",
      "metadata": {
        "id": "z5u1b6kEXzwJ"
      },
      "source": [
        "# Esecuzione"
      ]
    },
    {
      "cell_type": "code",
      "metadata": {
        "id": "fLneRrNez0Jt",
        "outputId": "b325ac0d-f992-4268-a627-153e8a3ce858",
        "colab": {
          "base_uri": "https://localhost:8080/",
          "height": 34
        }
      },
      "source": [
        "!./descrack/bin/desencrypt prosismc testo -s"
      ],
      "execution_count": null,
      "outputs": [
        {
          "output_type": "stream",
          "text": [
            "86dceaf239cda17e\n"
          ],
          "name": "stdout"
        }
      ]
    },
    {
      "cell_type": "code",
      "metadata": {
        "id": "GxoLJtRCz0X3",
        "outputId": "c9f32a50-aeb7-4eab-a571-8f9142d186f7",
        "colab": {
          "base_uri": "https://localhost:8080/",
          "height": 104
        }
      },
      "source": [
        "!time ./descrack/bin/descrack-cuda 86dceaf239cda17e prosismc -a l -M 5"
      ],
      "execution_count": null,
      "outputs": [
        {
          "output_type": "stream",
          "text": [
            "e9cbe6e9df010101\n",
            "\n",
            "real\t0m0.247s\n",
            "user\t0m0.055s\n",
            "sys\t0m0.179s\n"
          ],
          "name": "stdout"
        }
      ]
    }
  ]
}
